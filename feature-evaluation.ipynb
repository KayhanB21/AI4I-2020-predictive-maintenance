{
 "cells": [
  {
   "cell_type": "markdown",
   "source": [
    "## Feature Evaluation of AI4I 2020 Predictive Maintenance Dataset"
   ],
   "metadata": {
    "collapsed": false
   }
  },
  {
   "cell_type": "markdown",
   "source": [
    "<b>Problem Definition</b>:\n",
    "Perform an analysis of the given data to determine how different features are related to the target variable i.e. Machine failure.\n",
    " Build a machine learning model that can predict the\n",
    "Machine failure. <br>\n",
    "<b>Planned Goals</b>: <br>\n",
    "<b>Achieved Goals</b>: <br>\n",
    "<b>Contributors</b>: Kayhan B (Oct 2021)<br>\n",
    "<b>Reviewers</b>: -<br>\n",
    "<br>"
   ],
   "metadata": {
    "collapsed": false
   }
  },
  {
   "cell_type": "markdown",
   "source": [
    "<b>General Information</b>:<br>\n",
    "- Please read the README for python environment handling. <br>\n",
    "- More information about the defined problem is presented on: \n",
    "https://archive.ics.uci.edu/ml/datasets/AI4I+2020+Predictive+Maintenance+Dataset\n",
    "- Dataset for this problem is tabular and is stored inside the data folder.\n",
    "<br>"
   ],
   "metadata": {
    "collapsed": false
   }
  },
  {
   "cell_type": "markdown",
   "source": [
    "<b> Data Attribute Information (from source)</b>:\n",
    "\n",
    "The dataset consists of 10 000 data points stored as rows with 14 features in columns <br>\n",
    "<br>\n",
    "- <b>UID</b>: unique identifier ranging from 1 to 10000 <br>\n",
    "<br>\n",
    "- <b>product ID</b>: consisting of a letter L, M, or H for low (50% of all products), medium (30%) and high (20%) as \n",
    "product quality variants and a variant-specific serial number <br>\n",
    "<br>\n",
    "- <b>air temperature [K]</b>: generated using a random walk process later normalized to a standard deviation of 2 K around \n",
    "300 K <br>\n",
    "<br>\n",
    "- <b>process temperature [K]</b>: generated using a random walk process normalized to a standard deviation of 1 K, added \n",
    "to the air temperature plus 10 K. <br>\n",
    "<br>\n",
    "- <b>rotational speed [rpm]</b>: calculated from a power of 2860 W, overlaid with a normally distributed noise <br>\n",
    "<br>\n",
    "- <b>torque [Nm]</b>: torque values are normally distributed around 40 Nm with a Ïƒ = 10 Nm and no negative values. <br>\n",
    "<br>\n",
    "- <b>tool wear [min]</b>: The quality variants H/M/L add 5/3/2 minutes of tool wear to the used tool in the process. <br>\n",
    "<br>"
   ],
   "metadata": {
    "collapsed": false,
    "pycharm": {
     "name": "#%% md\n"
    }
   }
  },
  {
   "cell_type": "markdown",
   "source": [
    "<b>'machine failure'</b> label that indicates, whether the machine has failed in this particular datapoint for any of the \n",
    "following failure modes are true.\n",
    "<br>"
   ],
   "metadata": {
    "collapsed": false
   }
  },
  {
   "cell_type": "markdown",
   "source": [
    "The <b>machine failure</b> consists of five independent failure modes <br>\n",
    "<br>\n",
    "- <b>tool wear failure (TWF)</b>: the tool will be replaced of fail at a randomly selected tool wear time between 200 - 240\n",
    "mins (120 times in our dataset). At this point in time, the tool is replaced 69 times, and fails 51 times (randomly assigned). <br>\n",
    "<br>\n",
    "- <b>heat dissipation failure (HDF)</b>: heat dissipation causes a process failure, if the difference between air- and process\n",
    "temperature is below 8.6 K and the tool's rotational speed is below 1380 rpm. This is the case for 115 data points. <br>\n",
    "<br>\n",
    "- <b>power failure (PWF)</b>: the product of torque and rotational speed (in rad/s) equals the power required for the process.\n",
    "If this power is below 3500 W or above 9000 W, the process fails, which is the case 95 times in our dataset. <br>\n",
    "<br>\n",
    "- <b>overstrain failure (OSF)</b>: if the product of tool wear and torque exceeds 11,000 min Nm for the L product variant\n",
    "(12,000 M, 13,000 H), the process fails due to overstrain. This is true for 98 datapoints. <br>\n",
    "<br>\n",
    "- <b>random failures (RNF)</b>: each process has a chance of 0.1 % to fail regardless of its process parameters. This is the case\n",
    "for only 5 datapoints, less than could be expected for 10,000 datapoints in our dataset. <br>\n",
    "<br>"
   ],
   "metadata": {
    "collapsed": false
   }
  },
  {
   "cell_type": "markdown",
   "source": [
    "If at least one of the above failure modes is true, the process fails and the <b>'machine failure'</b> label is set to 1.\n",
    "It is therefore not transparent to the machine learning method, which of the failure modes has caused the process to fail.<br>\n",
    "<br>"
   ],
   "metadata": {
    "collapsed": false
   }
  },
  {
   "cell_type": "markdown",
   "source": [
    "Let's set up the configs, imported modules and take a glance at the data."
   ],
   "metadata": {
    "collapsed": false
   }
  },
  {
   "cell_type": "code",
   "execution_count": 1,
   "outputs": [
    {
     "name": "stdout",
     "output_type": "stream",
     "text": [
      "Notebook is started.\n",
      "Reading the config file is finished.\n"
     ]
    }
   ],
   "source": [
    "# read configuration from config files\n",
    "from config import settings\n",
    "\n",
    "cnf = settings.notebook"
   ],
   "metadata": {
    "collapsed": false,
    "pycharm": {
     "name": "#%%\n"
    }
   }
  },
  {
   "cell_type": "code",
   "execution_count": 2,
   "outputs": [],
   "source": [
    "# required libraries and helpers\n",
    "import pandas as pd\n",
    "import numpy as np"
   ],
   "metadata": {
    "collapsed": false,
    "pycharm": {
     "name": "#%%\n"
    }
   }
  },
  {
   "cell_type": "code",
   "execution_count": 3,
   "outputs": [
    {
     "name": "stdout",
     "output_type": "stream",
     "text": [
      "Data length is: 10000\n",
      "Number of columns is: 14\n",
      "Columns inferred types are:\n",
      "UDI                          int64\n",
      "Product ID                  object\n",
      "Type                        object\n",
      "Air temperature [K]        float64\n",
      "Process temperature [K]    float64\n",
      "Rotational speed [rpm]       int64\n",
      "Torque [Nm]                float64\n",
      "Tool wear [min]              int64\n",
      "Machine failure              int64\n",
      "TWF                          int64\n",
      "HDF                          int64\n",
      "PWF                          int64\n",
      "OSF                          int64\n",
      "RNF                          int64\n",
      "dtype: object\n"
     ]
    },
    {
     "data": {
      "text/plain": "   UDI Product ID Type  Air temperature [K]  Process temperature [K]  \\\n0    1     M14860    M                298.1                    308.6   \n1    2     L47181    L                298.2                    308.7   \n2    3     L47182    L                298.1                    308.5   \n3    4     L47183    L                298.2                    308.6   \n4    5     L47184    L                298.2                    308.7   \n\n   Rotational speed [rpm]  Torque [Nm]  Tool wear [min]  Machine failure  TWF  \\\n0                    1551         42.8                0                0    0   \n1                    1408         46.3                3                0    0   \n2                    1498         49.4                5                0    0   \n3                    1433         39.5                7                0    0   \n4                    1408         40.0                9                0    0   \n\n   HDF  PWF  OSF  RNF  \n0    0    0    0    0  \n1    0    0    0    0  \n2    0    0    0    0  \n3    0    0    0    0  \n4    0    0    0    0  ",
      "text/html": "<div>\n<style scoped>\n    .dataframe tbody tr th:only-of-type {\n        vertical-align: middle;\n    }\n\n    .dataframe tbody tr th {\n        vertical-align: top;\n    }\n\n    .dataframe thead th {\n        text-align: right;\n    }\n</style>\n<table border=\"1\" class=\"dataframe\">\n  <thead>\n    <tr style=\"text-align: right;\">\n      <th></th>\n      <th>UDI</th>\n      <th>Product ID</th>\n      <th>Type</th>\n      <th>Air temperature [K]</th>\n      <th>Process temperature [K]</th>\n      <th>Rotational speed [rpm]</th>\n      <th>Torque [Nm]</th>\n      <th>Tool wear [min]</th>\n      <th>Machine failure</th>\n      <th>TWF</th>\n      <th>HDF</th>\n      <th>PWF</th>\n      <th>OSF</th>\n      <th>RNF</th>\n    </tr>\n  </thead>\n  <tbody>\n    <tr>\n      <th>0</th>\n      <td>1</td>\n      <td>M14860</td>\n      <td>M</td>\n      <td>298.1</td>\n      <td>308.6</td>\n      <td>1551</td>\n      <td>42.8</td>\n      <td>0</td>\n      <td>0</td>\n      <td>0</td>\n      <td>0</td>\n      <td>0</td>\n      <td>0</td>\n      <td>0</td>\n    </tr>\n    <tr>\n      <th>1</th>\n      <td>2</td>\n      <td>L47181</td>\n      <td>L</td>\n      <td>298.2</td>\n      <td>308.7</td>\n      <td>1408</td>\n      <td>46.3</td>\n      <td>3</td>\n      <td>0</td>\n      <td>0</td>\n      <td>0</td>\n      <td>0</td>\n      <td>0</td>\n      <td>0</td>\n    </tr>\n    <tr>\n      <th>2</th>\n      <td>3</td>\n      <td>L47182</td>\n      <td>L</td>\n      <td>298.1</td>\n      <td>308.5</td>\n      <td>1498</td>\n      <td>49.4</td>\n      <td>5</td>\n      <td>0</td>\n      <td>0</td>\n      <td>0</td>\n      <td>0</td>\n      <td>0</td>\n      <td>0</td>\n    </tr>\n    <tr>\n      <th>3</th>\n      <td>4</td>\n      <td>L47183</td>\n      <td>L</td>\n      <td>298.2</td>\n      <td>308.6</td>\n      <td>1433</td>\n      <td>39.5</td>\n      <td>7</td>\n      <td>0</td>\n      <td>0</td>\n      <td>0</td>\n      <td>0</td>\n      <td>0</td>\n      <td>0</td>\n    </tr>\n    <tr>\n      <th>4</th>\n      <td>5</td>\n      <td>L47184</td>\n      <td>L</td>\n      <td>298.2</td>\n      <td>308.7</td>\n      <td>1408</td>\n      <td>40.0</td>\n      <td>9</td>\n      <td>0</td>\n      <td>0</td>\n      <td>0</td>\n      <td>0</td>\n      <td>0</td>\n      <td>0</td>\n    </tr>\n  </tbody>\n</table>\n</div>"
     },
     "execution_count": 3,
     "metadata": {},
     "output_type": "execute_result"
    }
   ],
   "source": [
    "# read data csv and store it in pandas dataframe\n",
    "df = pd.read_csv(cnf.data_source_path)\n",
    "print(f\"Dataframe length is: {len(df.index)}\")\n",
    "print(f\"Number of columns is: {len(df.columns)}\")\n",
    "print(f\"Columns inferred types are:\")\n",
    "print(df.dtypes)\n",
    "df.head(5)"
   ],
   "metadata": {
    "collapsed": false,
    "pycharm": {
     "name": "#%%\n"
    }
   }
  },
  {
   "cell_type": "code",
   "execution_count": 4,
   "outputs": [
    {
     "data": {
      "text/plain": "        UDI Product ID Type  Air temperature [K]  Process temperature [K]  \\\n9995   9996     M24855    M                298.8                    308.4   \n9996   9997     H39410    H                298.9                    308.4   \n9997   9998     M24857    M                299.0                    308.6   \n9998   9999     H39412    H                299.0                    308.7   \n9999  10000     M24859    M                299.0                    308.7   \n\n      Rotational speed [rpm]  Torque [Nm]  Tool wear [min]  Machine failure  \\\n9995                    1604         29.5               14                0   \n9996                    1632         31.8               17                0   \n9997                    1645         33.4               22                0   \n9998                    1408         48.5               25                0   \n9999                    1500         40.2               30                0   \n\n      TWF  HDF  PWF  OSF  RNF  \n9995    0    0    0    0    0  \n9996    0    0    0    0    0  \n9997    0    0    0    0    0  \n9998    0    0    0    0    0  \n9999    0    0    0    0    0  ",
      "text/html": "<div>\n<style scoped>\n    .dataframe tbody tr th:only-of-type {\n        vertical-align: middle;\n    }\n\n    .dataframe tbody tr th {\n        vertical-align: top;\n    }\n\n    .dataframe thead th {\n        text-align: right;\n    }\n</style>\n<table border=\"1\" class=\"dataframe\">\n  <thead>\n    <tr style=\"text-align: right;\">\n      <th></th>\n      <th>UDI</th>\n      <th>Product ID</th>\n      <th>Type</th>\n      <th>Air temperature [K]</th>\n      <th>Process temperature [K]</th>\n      <th>Rotational speed [rpm]</th>\n      <th>Torque [Nm]</th>\n      <th>Tool wear [min]</th>\n      <th>Machine failure</th>\n      <th>TWF</th>\n      <th>HDF</th>\n      <th>PWF</th>\n      <th>OSF</th>\n      <th>RNF</th>\n    </tr>\n  </thead>\n  <tbody>\n    <tr>\n      <th>9995</th>\n      <td>9996</td>\n      <td>M24855</td>\n      <td>M</td>\n      <td>298.8</td>\n      <td>308.4</td>\n      <td>1604</td>\n      <td>29.5</td>\n      <td>14</td>\n      <td>0</td>\n      <td>0</td>\n      <td>0</td>\n      <td>0</td>\n      <td>0</td>\n      <td>0</td>\n    </tr>\n    <tr>\n      <th>9996</th>\n      <td>9997</td>\n      <td>H39410</td>\n      <td>H</td>\n      <td>298.9</td>\n      <td>308.4</td>\n      <td>1632</td>\n      <td>31.8</td>\n      <td>17</td>\n      <td>0</td>\n      <td>0</td>\n      <td>0</td>\n      <td>0</td>\n      <td>0</td>\n      <td>0</td>\n    </tr>\n    <tr>\n      <th>9997</th>\n      <td>9998</td>\n      <td>M24857</td>\n      <td>M</td>\n      <td>299.0</td>\n      <td>308.6</td>\n      <td>1645</td>\n      <td>33.4</td>\n      <td>22</td>\n      <td>0</td>\n      <td>0</td>\n      <td>0</td>\n      <td>0</td>\n      <td>0</td>\n      <td>0</td>\n    </tr>\n    <tr>\n      <th>9998</th>\n      <td>9999</td>\n      <td>H39412</td>\n      <td>H</td>\n      <td>299.0</td>\n      <td>308.7</td>\n      <td>1408</td>\n      <td>48.5</td>\n      <td>25</td>\n      <td>0</td>\n      <td>0</td>\n      <td>0</td>\n      <td>0</td>\n      <td>0</td>\n      <td>0</td>\n    </tr>\n    <tr>\n      <th>9999</th>\n      <td>10000</td>\n      <td>M24859</td>\n      <td>M</td>\n      <td>299.0</td>\n      <td>308.7</td>\n      <td>1500</td>\n      <td>40.2</td>\n      <td>30</td>\n      <td>0</td>\n      <td>0</td>\n      <td>0</td>\n      <td>0</td>\n      <td>0</td>\n      <td>0</td>\n    </tr>\n  </tbody>\n</table>\n</div>"
     },
     "execution_count": 4,
     "metadata": {},
     "output_type": "execute_result"
    }
   ],
   "source": [
    "# last five rows\n",
    "df.tail(5)"
   ],
   "metadata": {
    "collapsed": false,
    "pycharm": {
     "name": "#%%\n"
    }
   }
  },
  {
   "cell_type": "code",
   "execution_count": 5,
   "outputs": [
    {
     "name": "stdout",
     "output_type": "stream",
     "text": [
      "<class 'pandas.core.frame.DataFrame'>\n",
      "RangeIndex: 10000 entries, 0 to 9999\n",
      "Data columns (total 14 columns):\n",
      " #   Column                   Non-Null Count  Dtype  \n",
      "---  ------                   --------------  -----  \n",
      " 0   UDI                      10000 non-null  int64  \n",
      " 1   Product ID               10000 non-null  object \n",
      " 2   Type                     10000 non-null  object \n",
      " 3   Air temperature [K]      10000 non-null  float64\n",
      " 4   Process temperature [K]  10000 non-null  float64\n",
      " 5   Rotational speed [rpm]   10000 non-null  int64  \n",
      " 6   Torque [Nm]              10000 non-null  float64\n",
      " 7   Tool wear [min]          10000 non-null  int64  \n",
      " 8   Machine failure          10000 non-null  int64  \n",
      " 9   TWF                      10000 non-null  int64  \n",
      " 10  HDF                      10000 non-null  int64  \n",
      " 11  PWF                      10000 non-null  int64  \n",
      " 12  OSF                      10000 non-null  int64  \n",
      " 13  RNF                      10000 non-null  int64  \n",
      "dtypes: float64(3), int64(9), object(2)\n",
      "memory usage: 1.1+ MB\n"
     ]
    }
   ],
   "source": [
    "# dataframe info and memory usage\n",
    "df.info(verbose = True)"
   ],
   "metadata": {
    "collapsed": false,
    "pycharm": {
     "name": "#%%\n"
    }
   }
  },
  {
   "cell_type": "code",
   "execution_count": 6,
   "outputs": [
    {
     "data": {
      "text/plain": "Index                         128\nUDI                         80000\nProduct ID                 630000\nType                       580000\nAir temperature [K]         80000\nProcess temperature [K]     80000\nRotational speed [rpm]      80000\nTorque [Nm]                 80000\nTool wear [min]             80000\nMachine failure             80000\nTWF                         80000\nHDF                         80000\nPWF                         80000\nOSF                         80000\nRNF                         80000\ndtype: int64"
     },
     "execution_count": 6,
     "metadata": {},
     "output_type": "execute_result"
    }
   ],
   "source": [
    "# memory usage of each column in bytes\n",
    "df.memory_usage(deep = True)"
   ],
   "metadata": {
    "collapsed": false,
    "pycharm": {
     "name": "#%%\n"
    }
   }
  },
  {
   "cell_type": "code",
   "execution_count": 8,
   "outputs": [
    {
     "name": "stdout",
     "output_type": "stream",
     "text": [
      "'Machine failure' column: % of ones in 3.39, % of zeros in 96.61, sum % = 100.00\n",
      "'TWF' column: % of ones in 0.46, % of zeros in 99.54, sum % = 100.00\n",
      "'HDF' column: % of ones in 1.15, % of zeros in 98.85, sum % = 100.00\n",
      "'PWF' column: % of ones in 0.95, % of zeros in 99.05, sum % = 100.00\n",
      "'OSF' column: % of ones in 0.98, % of zeros in 99.02, sum % = 100.00\n",
      "'RNF' column: % of ones in 0.19, % of zeros in 99.81, sum % = 100.00\n"
     ]
    }
   ],
   "source": [
    "# checking machine failures columns claimed attributes\n",
    "col_names = ['Machine failure', 'TWF', 'HDF', 'PWF', 'OSF', 'RNF']\n",
    "for col_name in col_names:\n",
    "    print(f\"'{col_name}' column: % of ones in {((df[col_name] == 1).sum() / len(df.index)) * 100 :.2f}, \"\n",
    "          f\"% of zeros in {((df[col_name] == 0).sum() / len(df.index)) * 100 :.2f}, \"\n",
    "          f\"sum % = {(len(df[(df[col_name] == 0) | (df[col_name] == 1)].index) / len(df.index)) * 100 :.2f}\")\n"
   ],
   "metadata": {
    "collapsed": false,
    "pycharm": {
     "name": "#%%\n"
    }
   }
  },
  {
   "cell_type": "markdown",
   "source": [
    "Target labels are correctly labelled as the sum of the ones and zeros equal to 100%. <br>\n",
    "Let's check if the condition related to the <b>machine failure modes</b> stated as \"if at least one of the failure modes is true,\n",
    "the process fails and marked as machine failure\" is true or not."
   ],
   "metadata": {
    "collapsed": false,
    "pycharm": {
     "name": "#%% md\n"
    }
   }
  },
  {
   "cell_type": "code",
   "execution_count": 22,
   "outputs": [
    {
     "data": {
      "text/plain": "False"
     },
     "execution_count": 22,
     "metadata": {},
     "output_type": "execute_result"
    }
   ],
   "source": [
    "(df[\"TWF\"] + df[\"HDF\"] + df[\"PWF\"] + df[\"OSF\"] + df[\"RNF\"]).apply(lambda x: 1 if x >= 1 else 0).equals(df['Machine failure'])"
   ],
   "metadata": {
    "collapsed": false,
    "pycharm": {
     "name": "#%%\n"
    }
   }
  },
  {
   "cell_type": "markdown",
   "source": [
    "Therefore, we have machine failure that are not exactly caused by main failure modes or failure modes do not caused the\n",
    "machine failure."
   ],
   "metadata": {
    "collapsed": false
   }
  },
  {
   "cell_type": "code",
   "execution_count": 37,
   "outputs": [
    {
     "name": "stdout",
     "output_type": "stream",
     "text": [
      "Dataframe length is: 27\n"
     ]
    },
    {
     "data": {
      "text/plain": "         UDI Product ID Type  Air temperature [K]  Process temperature [K]  \\\n1221  1222.0     M16081    M                297.0                    308.3   \n1302  1303.0     L48482    L                298.6                    309.8   \n1437  1438.0     H30851    H                298.8                    309.9   \n1748  1749.0     H31162    H                298.4                    307.7   \n2072  2073.0     L49252    L                299.6                    309.5   \n2559  2560.0     L49739    L                299.3                    309.0   \n2749  2750.0     M17609    M                299.7                    309.2   \n3065  3066.0     M17925    M                300.1                    309.2   \n3452  3453.0     H32866    H                301.6                    310.5   \n4044  4045.0     M18904    M                301.9                    310.9   \n\n      Rotational speed [rpm]  Torque [Nm]  Tool wear [min]  Machine failure  \\\n1221                  1399.0         46.4            132.0              0.0   \n1302                  1505.0         45.7            144.0              0.0   \n1437                  1439.0         45.2             40.0              1.0   \n1748                  1626.0         31.1            166.0              0.0   \n2072                  1570.0         35.5            189.0              0.0   \n2559                  1447.0         50.4            140.0              0.0   \n2749                  1685.0         28.9            179.0              1.0   \n3065                  1687.0         27.7             95.0              0.0   \n3452                  1602.0         32.3              2.0              0.0   \n4044                  1419.0         47.7             20.0              1.0   \n\n      TWF  HDF  PWF  OSF  RNF  \n1221  0.0  0.0  0.0  0.0  1.0  \n1302  0.0  0.0  0.0  0.0  1.0  \n1437  0.0  0.0  0.0  0.0  0.0  \n1748  0.0  0.0  0.0  0.0  1.0  \n2072  0.0  0.0  0.0  0.0  1.0  \n2559  0.0  0.0  0.0  0.0  1.0  \n2749  0.0  0.0  0.0  0.0  0.0  \n3065  0.0  0.0  0.0  0.0  1.0  \n3452  0.0  0.0  0.0  0.0  1.0  \n4044  0.0  0.0  0.0  0.0  0.0  ",
      "text/html": "<div>\n<style scoped>\n    .dataframe tbody tr th:only-of-type {\n        vertical-align: middle;\n    }\n\n    .dataframe tbody tr th {\n        vertical-align: top;\n    }\n\n    .dataframe thead th {\n        text-align: right;\n    }\n</style>\n<table border=\"1\" class=\"dataframe\">\n  <thead>\n    <tr style=\"text-align: right;\">\n      <th></th>\n      <th>UDI</th>\n      <th>Product ID</th>\n      <th>Type</th>\n      <th>Air temperature [K]</th>\n      <th>Process temperature [K]</th>\n      <th>Rotational speed [rpm]</th>\n      <th>Torque [Nm]</th>\n      <th>Tool wear [min]</th>\n      <th>Machine failure</th>\n      <th>TWF</th>\n      <th>HDF</th>\n      <th>PWF</th>\n      <th>OSF</th>\n      <th>RNF</th>\n    </tr>\n  </thead>\n  <tbody>\n    <tr>\n      <th>1221</th>\n      <td>1222.0</td>\n      <td>M16081</td>\n      <td>M</td>\n      <td>297.0</td>\n      <td>308.3</td>\n      <td>1399.0</td>\n      <td>46.4</td>\n      <td>132.0</td>\n      <td>0.0</td>\n      <td>0.0</td>\n      <td>0.0</td>\n      <td>0.0</td>\n      <td>0.0</td>\n      <td>1.0</td>\n    </tr>\n    <tr>\n      <th>1302</th>\n      <td>1303.0</td>\n      <td>L48482</td>\n      <td>L</td>\n      <td>298.6</td>\n      <td>309.8</td>\n      <td>1505.0</td>\n      <td>45.7</td>\n      <td>144.0</td>\n      <td>0.0</td>\n      <td>0.0</td>\n      <td>0.0</td>\n      <td>0.0</td>\n      <td>0.0</td>\n      <td>1.0</td>\n    </tr>\n    <tr>\n      <th>1437</th>\n      <td>1438.0</td>\n      <td>H30851</td>\n      <td>H</td>\n      <td>298.8</td>\n      <td>309.9</td>\n      <td>1439.0</td>\n      <td>45.2</td>\n      <td>40.0</td>\n      <td>1.0</td>\n      <td>0.0</td>\n      <td>0.0</td>\n      <td>0.0</td>\n      <td>0.0</td>\n      <td>0.0</td>\n    </tr>\n    <tr>\n      <th>1748</th>\n      <td>1749.0</td>\n      <td>H31162</td>\n      <td>H</td>\n      <td>298.4</td>\n      <td>307.7</td>\n      <td>1626.0</td>\n      <td>31.1</td>\n      <td>166.0</td>\n      <td>0.0</td>\n      <td>0.0</td>\n      <td>0.0</td>\n      <td>0.0</td>\n      <td>0.0</td>\n      <td>1.0</td>\n    </tr>\n    <tr>\n      <th>2072</th>\n      <td>2073.0</td>\n      <td>L49252</td>\n      <td>L</td>\n      <td>299.6</td>\n      <td>309.5</td>\n      <td>1570.0</td>\n      <td>35.5</td>\n      <td>189.0</td>\n      <td>0.0</td>\n      <td>0.0</td>\n      <td>0.0</td>\n      <td>0.0</td>\n      <td>0.0</td>\n      <td>1.0</td>\n    </tr>\n    <tr>\n      <th>2559</th>\n      <td>2560.0</td>\n      <td>L49739</td>\n      <td>L</td>\n      <td>299.3</td>\n      <td>309.0</td>\n      <td>1447.0</td>\n      <td>50.4</td>\n      <td>140.0</td>\n      <td>0.0</td>\n      <td>0.0</td>\n      <td>0.0</td>\n      <td>0.0</td>\n      <td>0.0</td>\n      <td>1.0</td>\n    </tr>\n    <tr>\n      <th>2749</th>\n      <td>2750.0</td>\n      <td>M17609</td>\n      <td>M</td>\n      <td>299.7</td>\n      <td>309.2</td>\n      <td>1685.0</td>\n      <td>28.9</td>\n      <td>179.0</td>\n      <td>1.0</td>\n      <td>0.0</td>\n      <td>0.0</td>\n      <td>0.0</td>\n      <td>0.0</td>\n      <td>0.0</td>\n    </tr>\n    <tr>\n      <th>3065</th>\n      <td>3066.0</td>\n      <td>M17925</td>\n      <td>M</td>\n      <td>300.1</td>\n      <td>309.2</td>\n      <td>1687.0</td>\n      <td>27.7</td>\n      <td>95.0</td>\n      <td>0.0</td>\n      <td>0.0</td>\n      <td>0.0</td>\n      <td>0.0</td>\n      <td>0.0</td>\n      <td>1.0</td>\n    </tr>\n    <tr>\n      <th>3452</th>\n      <td>3453.0</td>\n      <td>H32866</td>\n      <td>H</td>\n      <td>301.6</td>\n      <td>310.5</td>\n      <td>1602.0</td>\n      <td>32.3</td>\n      <td>2.0</td>\n      <td>0.0</td>\n      <td>0.0</td>\n      <td>0.0</td>\n      <td>0.0</td>\n      <td>0.0</td>\n      <td>1.0</td>\n    </tr>\n    <tr>\n      <th>4044</th>\n      <td>4045.0</td>\n      <td>M18904</td>\n      <td>M</td>\n      <td>301.9</td>\n      <td>310.9</td>\n      <td>1419.0</td>\n      <td>47.7</td>\n      <td>20.0</td>\n      <td>1.0</td>\n      <td>0.0</td>\n      <td>0.0</td>\n      <td>0.0</td>\n      <td>0.0</td>\n      <td>0.0</td>\n    </tr>\n  </tbody>\n</table>\n</div>"
     },
     "execution_count": 37,
     "metadata": {},
     "output_type": "execute_result"
    }
   ],
   "source": [
    "ser_failure_modes = (df[\"TWF\"] + df[\"HDF\"] + df[\"PWF\"] + df[\"OSF\"] + df[\"RNF\"]).apply(lambda x: 1 if x >= 1 else 0)\n",
    "df_check_failure_modes = pd.DataFrame()\n",
    "for index, value in df['Machine failure'].items():\n",
    "    if value != ser_failure_modes[index]:\n",
    "        df_check_failure_modes = df_check_failure_modes.append(df.iloc[index])\n",
    "\n",
    "print(f\"Dataframe length is: {len(df_check_failure_modes.index)}\")\n",
    "df_check_failure_modes.head(10)"
   ],
   "metadata": {
    "collapsed": false,
    "pycharm": {
     "name": "#%%\n"
    }
   }
  },
  {
   "cell_type": "markdown",
   "source": [
    "It seems some entries with RNF=1 are not considered as Machine Failure and some Machine Failure don't have proper reason.\n",
    "Let's check if that's true for RNF=1."
   ],
   "metadata": {
    "collapsed": false
   }
  },
  {
   "cell_type": "code",
   "execution_count": 42,
   "outputs": [
    {
     "name": "stdout",
     "output_type": "stream",
     "text": [
      "9\n",
      "9\n",
      "0\n",
      "19\n",
      "1\n"
     ]
    }
   ],
   "source": [
    "print(len(df_check_failure_modes[(df_check_failure_modes['RNF'] == 0) & (df_check_failure_modes['Machine failure'] == 1)].index))\n",
    "print(len(df_check_failure_modes[(df_check_failure_modes['RNF'] == 0) & (df_check_failure_modes['Machine failure'] == 1)\n",
    "                                 | (df_check_failure_modes['TWF'] == 1) | (df_check_failure_modes['PWF'] == 1)\n",
    "                                 | (df_check_failure_modes['HDF'] == 1) | (df_check_failure_modes['OSF'] == 1)].index))\n",
    "print(len(df_check_failure_modes[(df_check_failure_modes['RNF'] == 1) & (df_check_failure_modes['Machine failure'] == 1)].index))\n",
    "print((df['RNF'] == 1).sum())\n",
    "print(len(df[(df['RNF'] == 1) & (df['Machine failure'] == 1)].index))"
   ],
   "metadata": {
    "collapsed": false,
    "pycharm": {
     "name": "#%%\n"
    }
   }
  },
  {
   "cell_type": "markdown",
   "source": [
    "Considering total 27 cases that are discovered, 9 cases are independently 'Machine failure' is equal 1 without any failure mode reason\n",
    "(not even RNF) (inferred from first three print statement), so we end up with 18 cases that RNF=1 and 'Machine failure' is not equal to 1.\n",
    " but we have 19 entries (inferred from forth print statement) which satisfy the mentioned condition, where is the last one? <br>\n",
    "There's only one case that RNF=1 and Machine failure=1, let's see how it looks like (inferred from fifth print statement)."
   ],
   "metadata": {
    "collapsed": false
   }
  },
  {
   "cell_type": "code",
   "execution_count": 40,
   "outputs": [
    {
     "data": {
      "text/plain": "       UDI Product ID Type  Air temperature [K]  Process temperature [K]  \\\n3611  3612     L50791    L                301.7                    310.9   \n\n      Rotational speed [rpm]  Torque [Nm]  Tool wear [min]  Machine failure  \\\n3611                    1405         46.4              207                1   \n\n      TWF  HDF  PWF  OSF  RNF  \n3611    1    0    0    0    1  ",
      "text/html": "<div>\n<style scoped>\n    .dataframe tbody tr th:only-of-type {\n        vertical-align: middle;\n    }\n\n    .dataframe tbody tr th {\n        vertical-align: top;\n    }\n\n    .dataframe thead th {\n        text-align: right;\n    }\n</style>\n<table border=\"1\" class=\"dataframe\">\n  <thead>\n    <tr style=\"text-align: right;\">\n      <th></th>\n      <th>UDI</th>\n      <th>Product ID</th>\n      <th>Type</th>\n      <th>Air temperature [K]</th>\n      <th>Process temperature [K]</th>\n      <th>Rotational speed [rpm]</th>\n      <th>Torque [Nm]</th>\n      <th>Tool wear [min]</th>\n      <th>Machine failure</th>\n      <th>TWF</th>\n      <th>HDF</th>\n      <th>PWF</th>\n      <th>OSF</th>\n      <th>RNF</th>\n    </tr>\n  </thead>\n  <tbody>\n    <tr>\n      <th>3611</th>\n      <td>3612</td>\n      <td>L50791</td>\n      <td>L</td>\n      <td>301.7</td>\n      <td>310.9</td>\n      <td>1405</td>\n      <td>46.4</td>\n      <td>207</td>\n      <td>1</td>\n      <td>1</td>\n      <td>0</td>\n      <td>0</td>\n      <td>0</td>\n      <td>1</td>\n    </tr>\n  </tbody>\n</table>\n</div>"
     },
     "execution_count": 40,
     "metadata": {},
     "output_type": "execute_result"
    }
   ],
   "source": [
    "df[(df['RNF'] == 1) & (df['Machine failure'] == 1)].head()"
   ],
   "metadata": {
    "collapsed": false,
    "pycharm": {
     "name": "#%%\n"
    }
   }
  },
  {
   "cell_type": "markdown",
   "source": [
    "Therefore, the reason is for this entry to be 'Machine failure' is related to the TWF not RNF. From now one, we decided to correct\n",
    "the main dataframe and include RNF to the machine failure column, so we will have the unified 'Machine failure' column.\n",
    "With that we can forget about the modes of machine failure and satisfy the mentioned statement in the source \"It is therefore not\n",
    "transparent to the machine learning method, which of the failure modes has caused the process to fail\""
   ],
   "metadata": {
    "collapsed": false,
    "pycharm": {
     "name": "#%% md\n"
    }
   }
  },
  {
   "cell_type": "code",
   "execution_count": null,
   "outputs": [],
   "source": [],
   "metadata": {
    "collapsed": false,
    "pycharm": {
     "name": "#%%\n"
    }
   }
  }
 ],
 "metadata": {
  "kernelspec": {
   "display_name": "Python 3",
   "language": "python",
   "name": "python3"
  },
  "language_info": {
   "codemirror_mode": {
    "name": "ipython",
    "version": 3
   },
   "file_extension": ".py",
   "mimetype": "text/x-python",
   "name": "python",
   "nbconvert_exporter": "python",
   "pygments_lexer": "ipython3",
   "version": "3.8.8"
  },
  "pycharm": {
   "stem_cell": {
    "cell_type": "raw",
    "source": [
     "# coding=utf-8"
    ],
    "metadata": {
     "collapsed": false
    }
   }
  }
 },
 "nbformat": 4,
 "nbformat_minor": 5
}